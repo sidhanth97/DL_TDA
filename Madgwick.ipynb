{
 "cells": [
  {
   "cell_type": "code",
   "execution_count": 1,
   "metadata": {},
   "outputs": [],
   "source": [
    "import numpy as np\n",
    "import matplotlib.pyplot as plt"
   ]
  },
  {
   "cell_type": "code",
   "execution_count": null,
   "metadata": {},
   "outputs": [],
   "source": []
  },
  {
   "cell_type": "code",
   "execution_count": 8,
   "metadata": {},
   "outputs": [],
   "source": [
    "def quaternion(q):\n",
    "    q = np.array([q[0],q[1],q[2],q[3]])\n",
    "    return q\n",
    "\n",
    "def q_conj(q):\n",
    "    q = np.array([q[0],-1.*q[1],-1.*q[2],-1.*q[3]])\n",
    "    return q\n",
    "\n",
    "def q_mult(a,b):\n",
    "    mult_val = [a[0]*b[0] - a[1]*b[1] - a[2]*b[2] - a[3]*b[3],\n",
    "                a[0]*b[1] + a[1]*b[0] + a[2]*b[3] - a[3]*b[2],\n",
    "                a[0]*b[2] - a[1]*b[3] + a[2]*b[0] + a[3]*b[1],\n",
    "                a[0]*b[3] + a[1]*b[2] - a[2]*b[1] + a[3]*b[0]]\n",
    "    return np.transpose(np.array(mult_val))\n",
    "\n",
    "def normalize(q):\n",
    "    q_norm = np.sum([x**2 for x in q])\n",
    "    return q/q_norm\n",
    "\n",
    "def IMU_update(q,w,a,beta=1.,freq=1/256):\n",
    "    F = np.array([\n",
    "                  2.*(q[1]*q[3] - q[0]*q[2]) - a[0],\n",
    "                  2.*(q[0]*q[1] + q[2]*q[3]) - a[1],\n",
    "                  2.*(0.5 - q[1]**2 - q[2]**2) - a[2]\n",
    "                 ])\n",
    "    \n",
    "    J = np.array([\n",
    "         [-2.*q[2],  2.*q[3], -2.*q[0], 2.*q[1]],\n",
    "         [ 2.*q[1],  2.*q[0],  2.*q[3], 2.*q[2]],\n",
    "         [      0., -4.*q[1], -4.*q[2], 0.     ]\n",
    "        ])\n",
    "    \n",
    "    step = np.matmul(np.transpose(J),F)\n",
    "    step = normalize(step)\n",
    "    \n",
    "    q_w = np.array([0,w[0],w[1],w[2]])\n",
    "    q_dot = 0.5*(q_mult(q,q_w)) - beta*np.transpose(step)\n",
    "    q = q + freq*q_dot\n",
    "    q = normalize(q)\n",
    "    return q"
   ]
  },
  {
   "cell_type": "code",
   "execution_count": null,
   "metadata": {},
   "outputs": [],
   "source": []
  },
  {
   "cell_type": "code",
   "execution_count": null,
   "metadata": {},
   "outputs": [],
   "source": []
  }
 ],
 "metadata": {
  "kernelspec": {
   "display_name": "Python 3",
   "language": "python",
   "name": "python3"
  },
  "language_info": {
   "codemirror_mode": {
    "name": "ipython",
    "version": 3
   },
   "file_extension": ".py",
   "mimetype": "text/x-python",
   "name": "python",
   "nbconvert_exporter": "python",
   "pygments_lexer": "ipython3",
   "version": "3.6.8"
  }
 },
 "nbformat": 4,
 "nbformat_minor": 2
}
