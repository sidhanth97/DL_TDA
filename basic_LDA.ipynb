{
 "cells": [
  {
   "cell_type": "code",
   "execution_count": 10,
   "metadata": {},
   "outputs": [],
   "source": [
    "import pandas as pd\n",
    "import gensim\n",
    "from gensim.utils import simple_preprocess\n",
    "from gensim.parsing.preprocessing import STOPWORDS\n",
    "from nltk.stem import WordNetLemmatizer, SnowballStemmer\n",
    "from nltk.stem.porter import *\n",
    "import numpy as np\n",
    "import nltk\n",
    "from gensim import corpora, models\n",
    "from pprint import pprint\n",
    "from tqdm import tqdm "
   ]
  },
  {
   "cell_type": "code",
   "execution_count": 11,
   "metadata": {},
   "outputs": [
    {
     "data": {
      "text/html": [
       "<div>\n",
       "<style scoped>\n",
       "    .dataframe tbody tr th:only-of-type {\n",
       "        vertical-align: middle;\n",
       "    }\n",
       "\n",
       "    .dataframe tbody tr th {\n",
       "        vertical-align: top;\n",
       "    }\n",
       "\n",
       "    .dataframe thead th {\n",
       "        text-align: right;\n",
       "    }\n",
       "</style>\n",
       "<table border=\"1\" class=\"dataframe\">\n",
       "  <thead>\n",
       "    <tr style=\"text-align: right;\">\n",
       "      <th></th>\n",
       "      <th>publish_date</th>\n",
       "      <th>headline_text</th>\n",
       "    </tr>\n",
       "  </thead>\n",
       "  <tbody>\n",
       "    <tr>\n",
       "      <th>0</th>\n",
       "      <td>20030219</td>\n",
       "      <td>aba decides against community broadcasting lic...</td>\n",
       "    </tr>\n",
       "    <tr>\n",
       "      <th>1</th>\n",
       "      <td>20030219</td>\n",
       "      <td>act fire witnesses must be aware of defamation</td>\n",
       "    </tr>\n",
       "    <tr>\n",
       "      <th>2</th>\n",
       "      <td>20030219</td>\n",
       "      <td>a g calls for infrastructure protection summit</td>\n",
       "    </tr>\n",
       "    <tr>\n",
       "      <th>3</th>\n",
       "      <td>20030219</td>\n",
       "      <td>air nz staff in aust strike for pay rise</td>\n",
       "    </tr>\n",
       "    <tr>\n",
       "      <th>4</th>\n",
       "      <td>20030219</td>\n",
       "      <td>air nz strike to affect australian travellers</td>\n",
       "    </tr>\n",
       "  </tbody>\n",
       "</table>\n",
       "</div>"
      ],
      "text/plain": [
       "   publish_date                                      headline_text\n",
       "0      20030219  aba decides against community broadcasting lic...\n",
       "1      20030219     act fire witnesses must be aware of defamation\n",
       "2      20030219     a g calls for infrastructure protection summit\n",
       "3      20030219           air nz staff in aust strike for pay rise\n",
       "4      20030219      air nz strike to affect australian travellers"
      ]
     },
     "execution_count": 11,
     "metadata": {},
     "output_type": "execute_result"
    }
   ],
   "source": [
    "data = pd.read_csv('C:/Users/Sidhanth Krishna/Downloads/Datasets/kaggle/abcnews-date-text.csv',error_bad_lines=False)\n",
    "data_text = data[['headline_text']]\n",
    "data_text['index'] = data_text.index\n",
    "documents = data_text\n",
    "data.head()"
   ]
  },
  {
   "cell_type": "code",
   "execution_count": 12,
   "metadata": {},
   "outputs": [],
   "source": [
    "# Tokenization is donw using simple_preprocess\n",
    "# Remove words that have characters below 3 or if they are stopwords\n",
    "# The resultant words are then lemmatized to change from third person to first person\n",
    "# Stemming is done to reduce to root word\n",
    "\n",
    "stemmer = SnowballStemmer('english')\n",
    "\n",
    "def lem_stem(text):\n",
    "    lemma = WordNetLemmatizer().lemmatize(text,pos='v')\n",
    "    lemmatize_stemming = stemmer.stem(lemma)\n",
    "    return lemmatize_stemming\n",
    "\n",
    "def preprocess(text):\n",
    "    result_text = []\n",
    "    for token in simple_preprocess(text):\n",
    "        if token not in STOPWORDS and len(token)>3:\n",
    "            result_text.append(lem_stem(token))\n",
    "    return result_text"
   ]
  },
  {
   "cell_type": "code",
   "execution_count": 13,
   "metadata": {},
   "outputs": [
    {
     "name": "stdout",
     "output_type": "stream",
     "text": [
      "rain helps dampen bushfires\n",
      "['rain', 'help', 'dampen', 'bushfir']\n"
     ]
    }
   ],
   "source": [
    "doc_sample = documents[documents['index']==4310].values[0][0]\n",
    "print(doc_sample)\n",
    "print(preprocess(doc_sample))"
   ]
  },
  {
   "cell_type": "code",
   "execution_count": 14,
   "metadata": {},
   "outputs": [
    {
     "data": {
      "text/plain": [
       "0     [decid, communiti, broadcast, licenc]\n",
       "1                        [wit, awar, defam]\n",
       "2    [call, infrastructur, protect, summit]\n",
       "3               [staff, aust, strike, rise]\n",
       "4      [strike, affect, australian, travel]\n",
       "Name: headline_text, dtype: object"
      ]
     },
     "execution_count": 14,
     "metadata": {},
     "output_type": "execute_result"
    }
   ],
   "source": [
    "processed_docs = documents['headline_text'].map(preprocess)\n",
    "processed_docs.head()"
   ]
  },
  {
   "cell_type": "code",
   "execution_count": 15,
   "metadata": {},
   "outputs": [
    {
     "name": "stdout",
     "output_type": "stream",
     "text": [
      "[(19, 1)]\n"
     ]
    }
   ],
   "source": [
    "# Vectorizing using Bag of words\n",
    "# Using words based on it's frequency\n",
    "dictionary = gensim.corpora.Dictionary(processed_docs)\n",
    "dictionary.filter_extremes(no_below=15, no_above=0.5, keep_n=100)\n",
    "bow_corpus = [dictionary.doc2bow(doc) for doc in processed_docs]\n",
    "print(bow_corpus[4310])"
   ]
  },
  {
   "cell_type": "code",
   "execution_count": 16,
   "metadata": {},
   "outputs": [
    {
     "name": "stdout",
     "output_type": "stream",
     "text": [
      "[]\n",
      "\n",
      "[]\n",
      "\n",
      "[(0, 1.0)]\n",
      "\n",
      "[(1, 1.0)]\n",
      "\n",
      "[(2, 1.0)]\n",
      "\n",
      "[(3, 1.0)]\n",
      "\n",
      "[(4, 1.0)]\n",
      "\n",
      "[]\n",
      "\n",
      "[(5, 1.0)]\n",
      "\n",
      "[(6, 1.0)]\n",
      "\n"
     ]
    }
   ],
   "source": [
    "# Vectorizing using tfidf \n",
    "tfidf = models.TfidfModel(bow_corpus)\n",
    "corpus_tfidf = tfidf[bow_corpus]\n",
    "\n",
    "\n",
    "count = 0\n",
    "for doc in corpus_tfidf:\n",
    "    pprint(doc)\n",
    "    count+=1\n",
    "    print()\n",
    "    if count>9:\n",
    "        break\n"
   ]
  },
  {
   "cell_type": "code",
   "execution_count": 36,
   "metadata": {},
   "outputs": [
    {
     "name": "stdout",
     "output_type": "stream",
     "text": [
      "Topic: 0\n",
      "Words: 0.022*\"home\" + 0.019*\"live\" + 0.015*\"peopl\" + 0.013*\"student\" + 0.012*\"help\" + 0.012*\"industri\" + 0.011*\"farmer\" + 0.010*\"build\" + 0.010*\"worker\" + 0.010*\"research\"\n",
      "\n",
      "Topic: 1\n",
      "Words: 0.026*\"north\" + 0.023*\"market\" + 0.016*\"share\" + 0.015*\"lose\" + 0.013*\"bank\" + 0.013*\"talk\" + 0.013*\"week\" + 0.012*\"west\" + 0.012*\"close\" + 0.012*\"hobart\"\n",
      "\n",
      "Topic: 2\n",
      "Words: 0.043*\"polic\" + 0.025*\"charg\" + 0.024*\"court\" + 0.018*\"murder\" + 0.016*\"woman\" + 0.014*\"die\" + 0.014*\"death\" + 0.014*\"alleg\" + 0.013*\"interview\" + 0.013*\"jail\"\n",
      "\n",
      "Topic: 3\n",
      "Words: 0.030*\"melbourn\" + 0.026*\"adelaid\" + 0.019*\"sydney\" + 0.018*\"hospit\" + 0.017*\"donald\" + 0.014*\"concern\" + 0.013*\"flood\" + 0.012*\"guilti\" + 0.011*\"senat\" + 0.010*\"question\"\n",
      "\n",
      "Topic: 4\n",
      "Words: 0.049*\"australia\" + 0.031*\"trump\" + 0.023*\"world\" + 0.018*\"open\" + 0.018*\"canberra\" + 0.016*\"women\" + 0.015*\"final\" + 0.013*\"win\" + 0.013*\"australian\" + 0.011*\"leagu\"\n",
      "\n",
      "Topic: 5\n",
      "Words: 0.024*\"govern\" + 0.021*\"queensland\" + 0.018*\"plan\" + 0.018*\"elect\" + 0.016*\"chang\" + 0.015*\"say\" + 0.014*\"council\" + 0.014*\"nation\" + 0.013*\"state\" + 0.013*\"health\"\n",
      "\n",
      "Topic: 6\n",
      "Words: 0.026*\"coast\" + 0.024*\"countri\" + 0.019*\"hour\" + 0.018*\"time\" + 0.017*\"price\" + 0.017*\"gold\" + 0.014*\"rise\" + 0.012*\"race\" + 0.012*\"road\" + 0.011*\"presid\"\n",
      "\n",
      "Topic: 7\n",
      "Words: 0.028*\"south\" + 0.022*\"test\" + 0.018*\"tasmania\" + 0.014*\"fall\" + 0.014*\"busi\" + 0.012*\"royal\" + 0.011*\"john\" + 0.010*\"commiss\" + 0.010*\"australian\" + 0.010*\"season\"\n",
      "\n",
      "Topic: 8\n",
      "Words: 0.027*\"report\" + 0.023*\"warn\" + 0.018*\"tasmanian\" + 0.017*\"power\" + 0.014*\"victoria\" + 0.013*\"news\" + 0.011*\"port\" + 0.011*\"china\" + 0.011*\"victorian\" + 0.011*\"street\"\n",
      "\n",
      "Topic: 9\n",
      "Words: 0.027*\"kill\" + 0.018*\"dead\" + 0.018*\"attack\" + 0.017*\"turnbul\" + 0.016*\"leav\" + 0.014*\"protest\" + 0.013*\"near\" + 0.012*\"forc\" + 0.011*\"violenc\" + 0.011*\"head\"\n",
      "\n"
     ]
    }
   ],
   "source": [
    "# LDA using BOW\n",
    "LDA_model = gensim.models.LdaMulticore(bow_corpus, \n",
    "                                       num_topics=10, \n",
    "                                       id2word=dictionary, \n",
    "                                       passes=2, workers=2)\n",
    "\n",
    "for idx,topic in LDA_model.print_topics(-1):\n",
    "    print('Topic: '+str(idx)+'\\nWords: '+str(topic)+'\\n')"
   ]
  },
  {
   "cell_type": "code",
   "execution_count": 50,
   "metadata": {},
   "outputs": [
    {
     "name": "stdout",
     "output_type": "stream",
     "text": [
      "['rain', 'help', 'dampen', 'bushfir']\n",
      "\n",
      "Score: 0.42031497\n",
      "Topic0.030*\"melbourn\" + 0.026*\"adelaid\" + 0.019*\"sydney\" + 0.018*\"hospit\" + 0.017*\"donald\"\n",
      "\n",
      "Score: 0.22015883\n",
      "Topic0.028*\"south\" + 0.022*\"test\" + 0.018*\"tasmania\" + 0.014*\"fall\" + 0.014*\"busi\"\n",
      "\n",
      "Score: 0.2193984\n",
      "Topic0.026*\"north\" + 0.023*\"market\" + 0.016*\"share\" + 0.015*\"lose\" + 0.013*\"bank\"\n",
      "\n",
      "Score: 0.020026032\n",
      "Topic0.022*\"home\" + 0.019*\"live\" + 0.015*\"peopl\" + 0.013*\"student\" + 0.012*\"help\"\n",
      "\n",
      "Score: 0.02001862\n",
      "Topic0.024*\"govern\" + 0.021*\"queensland\" + 0.018*\"plan\" + 0.018*\"elect\" + 0.016*\"chang\"\n",
      "\n",
      "Score: 0.020016627\n",
      "Topic0.043*\"polic\" + 0.025*\"charg\" + 0.024*\"court\" + 0.018*\"murder\" + 0.016*\"woman\"\n",
      "\n",
      "Score: 0.020016627\n",
      "Topic0.049*\"australia\" + 0.031*\"trump\" + 0.023*\"world\" + 0.018*\"open\" + 0.018*\"canberra\"\n",
      "\n",
      "Score: 0.020016627\n",
      "Topic0.026*\"coast\" + 0.024*\"countri\" + 0.019*\"hour\" + 0.018*\"time\" + 0.017*\"price\"\n",
      "\n",
      "Score: 0.020016627\n",
      "Topic0.027*\"report\" + 0.023*\"warn\" + 0.018*\"tasmanian\" + 0.017*\"power\" + 0.014*\"victoria\"\n",
      "\n",
      "Score: 0.020016627\n",
      "Topic0.027*\"kill\" + 0.018*\"dead\" + 0.018*\"attack\" + 0.017*\"turnbul\" + 0.016*\"leav\"\n",
      "\n"
     ]
    }
   ],
   "source": [
    "# Evaluation of LDA using BOW\n",
    "print(str(processed_docs[4310])+'\\n')\n",
    "\n",
    "for index,score in sorted(LDA_model[bow_corpus[4310]], key=lambda tup:-1*tup[1]):\n",
    "    print('Score: '+str(score)+'\\nTopic'+str(LDA_model.print_topic(index,5))+'\\n')"
   ]
  },
  {
   "cell_type": "code",
   "execution_count": 38,
   "metadata": {},
   "outputs": [
    {
     "name": "stdout",
     "output_type": "stream",
     "text": [
      "Topic: 0\n",
      "Words: 0.018*\"polic\" + 0.016*\"charg\" + 0.015*\"murder\" + 0.012*\"alleg\" + 0.012*\"woman\" + 0.011*\"court\" + 0.011*\"death\" + 0.010*\"shoot\" + 0.009*\"arrest\" + 0.008*\"jail\"\n",
      "\n",
      "Topic: 1\n",
      "Words: 0.019*\"live\" + 0.017*\"turnbul\" + 0.012*\"victorian\" + 0.012*\"hobart\" + 0.010*\"malcolm\" + 0.009*\"weather\" + 0.008*\"northern\" + 0.007*\"islam\" + 0.007*\"explain\" + 0.006*\"blog\"\n",
      "\n",
      "Topic: 2\n",
      "Words: 0.013*\"rural\" + 0.011*\"govern\" + 0.007*\"budget\" + 0.006*\"fund\" + 0.006*\"share\" + 0.006*\"market\" + 0.006*\"council\" + 0.006*\"region\" + 0.006*\"dollar\" + 0.005*\"say\"\n",
      "\n",
      "Topic: 3\n",
      "Words: 0.012*\"drum\" + 0.012*\"news\" + 0.010*\"royal\" + 0.008*\"final\" + 0.008*\"australia\" + 0.008*\"commiss\" + 0.008*\"world\" + 0.007*\"australian\" + 0.007*\"open\" + 0.006*\"win\"\n",
      "\n",
      "Topic: 4\n",
      "Words: 0.038*\"trump\" + 0.018*\"donald\" + 0.011*\"christma\" + 0.011*\"marriag\" + 0.009*\"energi\" + 0.008*\"sexual\" + 0.008*\"stori\" + 0.008*\"speak\" + 0.008*\"south\" + 0.007*\"plead\"\n",
      "\n",
      "Topic: 5\n",
      "Words: 0.015*\"tasmania\" + 0.012*\"victoria\" + 0.010*\"street\" + 0.008*\"wall\" + 0.007*\"price\" + 0.007*\"david\" + 0.007*\"quiz\" + 0.006*\"kid\" + 0.006*\"zealand\" + 0.006*\"festiv\"\n",
      "\n",
      "Topic: 6\n",
      "Words: 0.010*\"john\" + 0.009*\"farm\" + 0.009*\"sport\" + 0.008*\"michael\" + 0.008*\"climat\" + 0.007*\"novemb\" + 0.007*\"know\" + 0.007*\"premier\" + 0.007*\"friday\" + 0.007*\"abbott\"\n",
      "\n",
      "Topic: 7\n",
      "Words: 0.014*\"interview\" + 0.010*\"korea\" + 0.009*\"north\" + 0.008*\"celebr\" + 0.008*\"ash\" + 0.007*\"terror\" + 0.007*\"media\" + 0.006*\"syria\" + 0.006*\"inquest\" + 0.006*\"wednesday\"\n",
      "\n",
      "Topic: 8\n",
      "Words: 0.021*\"countri\" + 0.019*\"hour\" + 0.013*\"crash\" + 0.009*\"die\" + 0.009*\"leagu\" + 0.009*\"road\" + 0.009*\"podcast\" + 0.008*\"hill\" + 0.008*\"fatal\" + 0.007*\"peter\"\n",
      "\n",
      "Topic: 9\n",
      "Words: 0.030*\"queensland\" + 0.010*\"elect\" + 0.008*\"mental\" + 0.008*\"juli\" + 0.008*\"presid\" + 0.008*\"central\" + 0.008*\"octob\" + 0.008*\"kill\" + 0.007*\"cyclon\" + 0.006*\"bring\"\n",
      "\n"
     ]
    }
   ],
   "source": [
    "# LDA using tfidf\n",
    "LDA_model_tfidf = gensim.models.LdaMulticore(corpus_tfidf,\n",
    "                                             num_topics=10,\n",
    "                                             id2word=dictionary,\n",
    "                                             passes=2, workers=2)\n",
    "for idx,topic in LDA_model_tfidf.print_topics(-1):\n",
    "    print('Topic: '+str(idx)+'\\nWords: '+str(topic)+'\\n')"
   ]
  },
  {
   "cell_type": "code",
   "execution_count": 49,
   "metadata": {},
   "outputs": [
    {
     "name": "stdout",
     "output_type": "stream",
     "text": [
      "['rain', 'help', 'dampen', 'bushfir']\n",
      "\n",
      "Score: 0.58291334\n",
      "Topic0.030*\"queensland\" + 0.010*\"elect\" + 0.008*\"mental\" + 0.008*\"juli\" + 0.008*\"presid\"\n",
      "\n",
      "Score: 0.25702325\n",
      "Topic0.014*\"interview\" + 0.010*\"korea\" + 0.009*\"north\" + 0.008*\"celebr\" + 0.008*\"ash\"\n",
      "\n",
      "Score: 0.020012975\n",
      "Topic0.015*\"tasmania\" + 0.012*\"victoria\" + 0.010*\"street\" + 0.008*\"wall\" + 0.007*\"price\"\n",
      "\n",
      "Score: 0.020009546\n",
      "Topic0.013*\"rural\" + 0.011*\"govern\" + 0.007*\"budget\" + 0.006*\"fund\" + 0.006*\"share\"\n",
      "\n",
      "Score: 0.020008529\n",
      "Topic0.019*\"live\" + 0.017*\"turnbul\" + 0.012*\"victorian\" + 0.012*\"hobart\" + 0.010*\"malcolm\"\n",
      "\n",
      "Score: 0.020007392\n",
      "Topic0.018*\"polic\" + 0.016*\"charg\" + 0.015*\"murder\" + 0.012*\"alleg\" + 0.012*\"woman\"\n",
      "\n",
      "Score: 0.020006895\n",
      "Topic0.021*\"countri\" + 0.019*\"hour\" + 0.013*\"crash\" + 0.009*\"die\" + 0.009*\"leagu\"\n",
      "\n",
      "Score: 0.02000666\n",
      "Topic0.010*\"john\" + 0.009*\"farm\" + 0.009*\"sport\" + 0.008*\"michael\" + 0.008*\"climat\"\n",
      "\n",
      "Score: 0.02000629\n",
      "Topic0.038*\"trump\" + 0.018*\"donald\" + 0.011*\"christma\" + 0.011*\"marriag\" + 0.009*\"energi\"\n",
      "\n",
      "Score: 0.020005092\n",
      "Topic0.012*\"drum\" + 0.012*\"news\" + 0.010*\"royal\" + 0.008*\"final\" + 0.008*\"australia\"\n",
      "\n"
     ]
    }
   ],
   "source": [
    "# Evaluation of LDA using tf-idf\n",
    "print(str(processed_docs[4310])+'\\n')\n",
    "\n",
    "for index,score in sorted(LDA_model_tfidf[bow_corpus[4310]], key=lambda tup:-1*tup[1]):\n",
    "    print('Score: '+str(score)+'\\nTopic'+str(LDA_model_tfidf.print_topic(index,5))+'\\n')"
   ]
  },
  {
   "cell_type": "code",
   "execution_count": 48,
   "metadata": {},
   "outputs": [
    {
     "name": "stdout",
     "output_type": "stream",
     "text": [
      "Score: 0.6202708\n",
      "Topic0.026*\"north\" + 0.023*\"market\" + 0.016*\"share\" + 0.015*\"lose\" + 0.013*\"bank\"\n",
      "\n",
      "Score: 0.21963663\n",
      "Topic0.027*\"kill\" + 0.018*\"dead\" + 0.018*\"attack\" + 0.017*\"turnbul\" + 0.016*\"leav\"\n",
      "\n",
      "Score: 0.020013858\n",
      "Topic0.024*\"govern\" + 0.021*\"queensland\" + 0.018*\"plan\" + 0.018*\"elect\" + 0.016*\"chang\"\n",
      "\n",
      "Score: 0.02001239\n",
      "Topic0.028*\"south\" + 0.022*\"test\" + 0.018*\"tasmania\" + 0.014*\"fall\" + 0.014*\"busi\"\n",
      "\n",
      "Score: 0.020011669\n",
      "Topic0.027*\"report\" + 0.023*\"warn\" + 0.018*\"tasmanian\" + 0.017*\"power\" + 0.014*\"victoria\"\n",
      "\n",
      "Score: 0.020011362\n",
      "Topic0.030*\"melbourn\" + 0.026*\"adelaid\" + 0.019*\"sydney\" + 0.018*\"hospit\" + 0.017*\"donald\"\n",
      "\n",
      "Score: 0.02001136\n",
      "Topic0.022*\"home\" + 0.019*\"live\" + 0.015*\"peopl\" + 0.013*\"student\" + 0.012*\"help\"\n",
      "\n",
      "Score: 0.02001064\n",
      "Topic0.026*\"coast\" + 0.024*\"countri\" + 0.019*\"hour\" + 0.018*\"time\" + 0.017*\"price\"\n",
      "\n",
      "Score: 0.020010639\n",
      "Topic0.043*\"polic\" + 0.025*\"charg\" + 0.024*\"court\" + 0.018*\"murder\" + 0.016*\"woman\"\n",
      "\n",
      "Score: 0.020010639\n",
      "Topic0.049*\"australia\" + 0.031*\"trump\" + 0.023*\"world\" + 0.018*\"open\" + 0.018*\"canberra\"\n",
      "\n"
     ]
    }
   ],
   "source": [
    "# Testing on unseen document\n",
    "unseen_doc = 'How a Pentagon deal became an identitiy crisis for Google'\n",
    "bow_vector = dictionary.doc2bow(preprocess(unseen_doc))\n",
    "\n",
    "for index,score in sorted(LDA_model[bow_vector],\n",
    "                          key=lambda tup:-1*tup[1]):\n",
    "    print('Score: '+str(score)+'\\nTopic'+str(LDA_model.print_topic(index,5))+'\\n')"
   ]
  },
  {
   "cell_type": "code",
   "execution_count": null,
   "metadata": {},
   "outputs": [],
   "source": []
  }
 ],
 "metadata": {
  "kernelspec": {
   "display_name": "Python 3",
   "language": "python",
   "name": "python3"
  },
  "language_info": {
   "codemirror_mode": {
    "name": "ipython",
    "version": 3
   },
   "file_extension": ".py",
   "mimetype": "text/x-python",
   "name": "python",
   "nbconvert_exporter": "python",
   "pygments_lexer": "ipython3",
   "version": "3.6.8"
  }
 },
 "nbformat": 4,
 "nbformat_minor": 2
}
