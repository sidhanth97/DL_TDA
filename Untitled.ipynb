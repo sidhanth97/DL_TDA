{
 "cells": [
  {
   "cell_type": "code",
   "execution_count": 3,
   "metadata": {},
   "outputs": [],
   "source": [
    "import gym\n",
    "import numpy as np"
   ]
  },
  {
   "cell_type": "code",
   "execution_count": 8,
   "metadata": {},
   "outputs": [],
   "source": [
    "env = gym.make('MountainCar-v0')\n",
    "\n",
    "learning_rate = 0.1\n",
    "discount = 0.95\n",
    "episodes = 25000\n",
    "show_freq = 3000\n",
    "\n",
    "DIS_OBS_SPACE = [20,20]\n",
    "DIS_OBS_WIN = (env.observation_space.high - env.observation_space.low)/DIS_OBS_SPACE\n",
    "\n",
    "epsilon = 1\n",
    "start_epsilon_decay = 1\n",
    "end_epsilon_decay = episodes//2\n",
    "epsilon_decay_val = epsilon/(end_epsilon_decay-start_epsilon_decay)\n",
    "\n",
    "q_table = np.random.uniform(low=-2,high=0,size=DIS_OBS_SPACE + [env.action_space.n])"
   ]
  },
  {
   "cell_type": "code",
   "execution_count": 9,
   "metadata": {},
   "outputs": [],
   "source": [
    "def discretize_state(state):\n",
    "    discrete_state = (state - env.observation_space.low)/DIS_OBS_WIN\n",
    "    return tuple(discrete_state.astype(np.int))"
   ]
  },
  {
   "cell_type": "code",
   "execution_count": 11,
   "metadata": {},
   "outputs": [
    {
     "name": "stdout",
     "output_type": "stream",
     "text": [
      "0\n",
      "3000\n",
      "6000\n",
      "9000\n",
      "12000\n",
      "15000\n",
      "18000\n",
      "21000\n",
      "24000\n"
     ]
    }
   ],
   "source": [
    "for episode in range(episodes):\n",
    "    discrete_state = discretize_state(env.reset())\n",
    "    done = False\n",
    "\n",
    "    if episode%show_freq==0:\n",
    "        render = True\n",
    "        print(episode)\n",
    "    else:\n",
    "        render = False\n",
    "        \n",
    "    while not done:\n",
    "        \n",
    "        if np.random.random() > epsilon:\n",
    "            action = np.argmax(q_table[discrete_state])\n",
    "        else:\n",
    "            action = np.random.randint(0,env.action_space.n)\n",
    "            \n",
    "        new_state,reward,done,_ = env.step(action)\n",
    "        new_discrete_state = discretize_state(new_state)\n",
    "        \n",
    "        if render:\n",
    "            env.render()\n",
    "            \n",
    "        if not done:\n",
    "            max_future_q = np.max(q_table[new_discrete_state])\n",
    "            current_q = q_table[discrete_state + (action,)]\n",
    "            new_q = (1-learning_rate)*current_q + learning_rate*(reward + discount*max_future_q)\n",
    "            q_table[discrete_state+(action,)] = new_q\n",
    "            \n",
    "        elif new_state[0] >=env.goal_position:\n",
    "            q_table[discrete_state+(action,)] = 0\n",
    "        \n",
    "        discrete_state = new_discrete_state\n",
    "        \n",
    "    if end_epsilon_decay>=episode>=start_epsilon_decay:\n",
    "        epsilon -= epsilon_decay_val\n",
    "\n",
    "env.close()"
   ]
  },
  {
   "cell_type": "code",
   "execution_count": null,
   "metadata": {},
   "outputs": [],
   "source": []
  },
  {
   "cell_type": "code",
   "execution_count": null,
   "metadata": {},
   "outputs": [],
   "source": []
  }
 ],
 "metadata": {
  "kernelspec": {
   "display_name": "Python 3",
   "language": "python",
   "name": "python3"
  },
  "language_info": {
   "codemirror_mode": {
    "name": "ipython",
    "version": 3
   },
   "file_extension": ".py",
   "mimetype": "text/x-python",
   "name": "python",
   "nbconvert_exporter": "python",
   "pygments_lexer": "ipython3",
   "version": "3.6.8"
  }
 },
 "nbformat": 4,
 "nbformat_minor": 2
}
