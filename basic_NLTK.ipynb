{
 "cells": [
  {
   "cell_type": "code",
   "execution_count": 7,
   "metadata": {},
   "outputs": [],
   "source": [
    "from nltk.corpus import stopwords, state_union, gutenberg\n",
    "from nltk.tokenize import word_tokenize,sent_tokenize, PunktSentenceTokenizer\n",
    "from nltk.stem import PorterStemmer, WordNetLemmatizer\n",
    "import nltk"
   ]
  },
  {
   "cell_type": "code",
   "execution_count": 2,
   "metadata": {},
   "outputs": [],
   "source": [
    "# Tokenizing\n",
    "# Breaking the statement into individual components\n",
    "\n",
    "example_text = 'Hello there, how are you doing today? wtaf is happening today Mr.Smith'\n",
    "#print(sent_tokenize(example_text)) # Tokenizing Sentences\n",
    "#print(word_tokenize(example_text)) # Tokenizing Words"
   ]
  },
  {
   "cell_type": "code",
   "execution_count": 3,
   "metadata": {},
   "outputs": [],
   "source": [
    "# Stop words\n",
    "# Used for removing uneccessary words in a corpus\n",
    "\n",
    "examples = [\n",
    "            'This is an example showing off stop word filtration.',\n",
    "            'Hey! How are you?',\n",
    "            'Could this be any better?',\n",
    "            'Computer Vision is superior to NLP! XD'\n",
    "          ]\n",
    "\n",
    "stop_words = set(stopwords.words('english'))\n",
    "for example in examples:\n",
    "    words = word_tokenize(example)\n",
    "    filtered_sentence = []\n",
    "    for word in words:\n",
    "        if word not in stop_words:\n",
    "            filtered_sentence.append(word)\n",
    "    #print(filtered_sentence)        \n",
    "    del filtered_sentence"
   ]
  },
  {
   "cell_type": "code",
   "execution_count": 4,
   "metadata": {},
   "outputs": [],
   "source": [
    "# Stemming \n",
    "# Used for finding parent of a word. Eg: Ridden,Riding etc -> Ride\n",
    "\n",
    "ps = PorterStemmer()\n",
    "new_text = 'It is very important to be stonely while you are stoning with stone. All stoners have stoned poorly atleast once'\n",
    "words = word_tokenize(new_text)\n",
    "\n",
    "#for word in words: \n",
    "#    print(ps.stem(word))\n"
   ]
  },
  {
   "cell_type": "code",
   "execution_count": 5,
   "metadata": {},
   "outputs": [],
   "source": [
    "# Part of speech tagging\n",
    "# PunktSentenceTokenizer is an unsupervised ML sentence tokenizer. Can be re-trained.\n",
    "# Copora or Corpus means documents. Implies, state_union has few default corpus\n",
    "\n",
    "# Chunking and Chinking\n",
    "\n",
    "# Named Entity Recognition. Recognizes what is what from the following table\n",
    "\"\"\"\n",
    "ORGANIZATION\n",
    "PERSON\n",
    "LOCATION\n",
    "DATE\n",
    "TIME\n",
    "MONEY\n",
    "PERCENT\n",
    "FACILITY\n",
    "GPE(GEOGRAPHICAL LOCATION)\n",
    "\"\"\"\n",
    "\n",
    "train_text = state_union.raw('2005-GWbush.txt')\n",
    "sample_text = state_union.raw('2006-GWBush.txt')\n",
    "cust_sent_tokenizer = PunktSentenceTokenizer(sample_text)\n",
    "\n",
    "tokenized = cust_sent_tokenizer.tokenize(sample_text)\n",
    "\n",
    "def process_content():\n",
    "    try:\n",
    "        for i in tokenized:\n",
    "            words = word_tokenize(i)\n",
    "            tagged = nltk.pos_tag(words)\n",
    "            \n",
    "            namedEnt = nltk.ne_chunk(tagged)\n",
    "            #namedEnt.draw()\n",
    "            \n",
    "            chunkGram = r\"\"\"Chunk: {<.*>+} \n",
    "                                    }<VB.?|IN|DT>{ \"\"\"\n",
    "            #print(tagged)\n",
    "             \n",
    "            chunkParser = nltk.RegexpParser(chunkGram)\n",
    "            chunked = chunkParser.parse(tagged)\n",
    "            #print(chunked)\n",
    "            #chunked.draw()\n",
    "    except Exception as e:\n",
    "        print(str(e))\n",
    "\n",
    "process_content()\n",
    " "
   ]
  },
  {
   "cell_type": "code",
   "execution_count": 6,
   "metadata": {},
   "outputs": [
    {
     "name": "stdout",
     "output_type": "stream",
     "text": [
      "cat\n",
      "better\n",
      "good\n",
      "cactus\n",
      "goose\n"
     ]
    }
   ],
   "source": [
    "# Lemmatizer\n",
    "# Similar to stemming but returns a word with meaning according to the context and the nature of the word thats being lemmatized\n",
    "\n",
    "lemma = WordNetLemmatizer()\n",
    "print(lemma.lemmatize('cats'))\n",
    "print(lemma.lemmatize('better'))\n",
    "print(lemma.lemmatize('better',pos='a'))\n",
    "print(lemma.lemmatize('cacti'))\n",
    "print(lemma.lemmatize('geese'))\n"
   ]
  },
  {
   "cell_type": "code",
   "execution_count": 10,
   "metadata": {},
   "outputs": [],
   "source": [
    "# Corpora: Datasets\n",
    "\n",
    "sample = gutenberg.raw('bible-kjv.txt')\n",
    "tok = sent_tokenize(sample)"
   ]
  },
  {
   "cell_type": "code",
   "execution_count": null,
   "metadata": {},
   "outputs": [],
   "source": [
    "# Wordnet\n",
    "\n"
   ]
  }
 ],
 "metadata": {
  "kernelspec": {
   "display_name": "Python 3",
   "language": "python",
   "name": "python3"
  },
  "language_info": {
   "codemirror_mode": {
    "name": "ipython",
    "version": 3
   },
   "file_extension": ".py",
   "mimetype": "text/x-python",
   "name": "python",
   "nbconvert_exporter": "python",
   "pygments_lexer": "ipython3",
   "version": "3.6.8"
  }
 },
 "nbformat": 4,
 "nbformat_minor": 2
}
