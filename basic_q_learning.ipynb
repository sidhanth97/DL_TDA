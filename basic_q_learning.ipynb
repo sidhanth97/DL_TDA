{
 "cells": [
  {
   "cell_type": "code",
   "execution_count": 1,
   "metadata": {},
   "outputs": [
    {
     "name": "stdout",
     "output_type": "stream",
     "text": [
      "[0.6  0.07]\n",
      "[-1.2  -0.07]\n",
      "3\n",
      "[0.09  0.007]\n",
      "(20, 20, 3)\n",
      "[[[-1.55868894 -0.05171415 -0.83014167]\n",
      "  [-0.20215692 -0.19860144 -0.78428411]\n",
      "  [-1.83989814 -0.34695395 -1.75254026]\n",
      "  ...\n",
      "  [-1.01260973 -1.8708665  -1.30892221]\n",
      "  [-1.29704195 -0.55888491 -1.5523499 ]\n",
      "  [-0.65798788 -1.46842415 -1.57359657]]\n",
      "\n",
      " [[-1.45970989 -0.21372961 -0.52525456]\n",
      "  [-0.16014813 -1.77052985 -1.20086918]\n",
      "  [-1.40153947 -0.42911074 -1.51536577]\n",
      "  ...\n",
      "  [-0.30234171 -0.051642   -0.10365527]\n",
      "  [-0.4022853  -1.84084803 -0.65942658]\n",
      "  [-0.76324819 -0.82730454 -0.32474173]]\n",
      "\n",
      " [[-0.60778553 -0.34979741 -0.34909125]\n",
      "  [-0.00672739 -1.83156407 -0.56619033]\n",
      "  [-1.52535605 -1.94457336 -0.56904439]\n",
      "  ...\n",
      "  [-1.86468346 -0.09350739 -1.26219108]\n",
      "  [-0.86274173 -1.97320615 -1.73222871]\n",
      "  [-0.21540343 -1.44748368 -0.47176068]]\n",
      "\n",
      " ...\n",
      "\n",
      " [[-1.1328898  -0.03278651 -0.61668235]\n",
      "  [-1.10584371 -0.12497639 -1.7934716 ]\n",
      "  [-1.757846   -1.79284069 -0.2954655 ]\n",
      "  ...\n",
      "  [-1.00824154 -1.22680526 -0.15409556]\n",
      "  [-1.09616814 -0.73337169 -1.32567816]\n",
      "  [-1.69829779 -0.19961401 -0.60337648]]\n",
      "\n",
      " [[-0.98262893 -0.68508691 -1.07512116]\n",
      "  [-0.94892393 -1.98893421 -0.15860867]\n",
      "  [-1.61590826 -1.74599974 -1.94953935]\n",
      "  ...\n",
      "  [-0.47357753 -0.82034212 -0.46745116]\n",
      "  [-0.42628529 -0.32508816 -0.04552495]\n",
      "  [-0.1491888  -1.62016037 -1.10496938]]\n",
      "\n",
      " [[-0.17666397 -1.83568602 -0.28467831]\n",
      "  [-1.76257107 -1.04007176 -0.72105506]\n",
      "  [-0.57803744 -0.35041516 -1.25760719]\n",
      "  ...\n",
      "  [-0.33556474 -1.31815344 -1.31635483]\n",
      "  [-0.50905871 -0.76762769 -1.54676674]\n",
      "  [-1.8719778  -0.48520777 -1.73501544]]]\n"
     ]
    },
    {
     "data": {
      "text/plain": [
       "\"\\ndone = False\\nwhile not False:\\n    action = random.choice([0,2])\\n    new_state, reward,done,_ = env.step(action)\\n    print('Action: '+str(action)+' New state: '+str(new_state)+' Reward: '+str(reward)+' Done: '+str(done))\\n    env.render()\\n    \\nenv.close()\\n\""
      ]
     },
     "execution_count": 1,
     "metadata": {},
     "output_type": "execute_result"
    }
   ],
   "source": [
    "import gym\n",
    "import random\n",
    "import numpy as np\n",
    "\n",
    "env = gym.make(\"MountainCar-v0\")\n",
    "env.reset()\n",
    "\n",
    "print(env.observation_space.high)\n",
    "print(env.observation_space.low)\n",
    "print(env.action_space.n)\n",
    "\n",
    "discrete_os_size = [20]*len(env.observation_space.high)\n",
    "discrete_os_win_size = (env.observation_space.high-env.observation_space.low)/discrete_os_size\n",
    "print(discrete_os_win_size)\n",
    "\n",
    "q_table = np.random.uniform(low=-2,high=0,size=(discrete_os_size+[env.action_space.n])) \n",
    "print(q_table.shape)\n",
    "print(q_table)\n",
    "\n",
    "\"\"\"\n",
    "done = False\n",
    "while not False:\n",
    "    action = random.choice([0,2])\n",
    "    new_state, reward,done,_ = env.step(action)\n",
    "    print('Action: '+str(action)+' New state: '+str(new_state)+' Reward: '+str(reward)+' Done: '+str(done))\n",
    "    env.render()\n",
    "    \n",
    "env.close()\n",
    "\"\"\""
   ]
  },
  {
   "cell_type": "code",
   "execution_count": null,
   "metadata": {},
   "outputs": [],
   "source": []
  }
 ],
 "metadata": {
  "kernelspec": {
   "display_name": "Python 3",
   "language": "python",
   "name": "python3"
  },
  "language_info": {
   "codemirror_mode": {
    "name": "ipython",
    "version": 3
   },
   "file_extension": ".py",
   "mimetype": "text/x-python",
   "name": "python",
   "nbconvert_exporter": "python",
   "pygments_lexer": "ipython3",
   "version": "3.6.8"
  }
 },
 "nbformat": 4,
 "nbformat_minor": 2
}
